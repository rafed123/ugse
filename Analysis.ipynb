{
 "cells": [
  {
   "cell_type": "code",
   "execution_count": 54,
   "metadata": {},
   "outputs": [],
   "source": [
    "import pandas as pd\n",
    "import matplotlib.pyplot as plt\n",
    "import seaborn as sns\n",
    "from sklearn import preprocessing\n",
    "\n",
    "pd.set_option('display.max_columns', 500)\n",
    "sns.set()"
   ]
  },
  {
   "cell_type": "code",
   "execution_count": 55,
   "metadata": {
    "scrolled": true
   },
   "outputs": [],
   "source": [
    "df = pd.read_csv('ugse.csv')\n",
    "\n",
    "df.columns = df.iloc[0]\n",
    "df.rename(columns={ df.columns[2]: \"permission\" }, inplace = True)\n",
    "df = df[2:]\n",
    "\n",
    "cols = df.columns\n",
    "\n",
    "df = df[df[cols[0]]  == '100']\n",
    "df = df[df[cols[2]]  == 'I agree']\n",
    "df = df[df[cols[3]]  != 'No - I\\'ve never worked']\n",
    "\n",
    "df.drop(df.columns[[0,1,2,3]], axis=1, inplace=True)\n",
    "\n",
    "cols = df.columns\n",
    "\n",
    "# They did not complete: 20, 110, 111, 127\n",
    "df.drop([20,110,111,127], inplace=True)\n",
    "\n",
    "# Some null values of Q7-Q15\n",
    "df[cols[7:16]] = df[cols[7:16]].fillna('Neither agree nor disagree')\n",
    "\n",
    "# df.reset_index(drop=True, inplace=True)\n",
    "color = ['r', 'lightcoral', 'lightgrey', 'lightgreen', 'g']"
   ]
  },
  {
   "cell_type": "code",
   "execution_count": 3,
   "metadata": {
    "scrolled": true
   },
   "outputs": [
    {
     "data": {
      "text/html": [
       "<div>\n",
       "<style scoped>\n",
       "    .dataframe tbody tr th:only-of-type {\n",
       "        vertical-align: middle;\n",
       "    }\n",
       "\n",
       "    .dataframe tbody tr th {\n",
       "        vertical-align: top;\n",
       "    }\n",
       "\n",
       "    .dataframe thead th {\n",
       "        text-align: right;\n",
       "    }\n",
       "</style>\n",
       "<table border=\"1\" class=\"dataframe\">\n",
       "  <thead>\n",
       "    <tr style=\"text-align: right;\">\n",
       "      <th></th>\n",
       "      <th>Please provide your undergraduate University name</th>\n",
       "      <th>What is your gender?</th>\n",
       "      <th>What is your highest level of degree or education? - Selected Choice</th>\n",
       "      <th>Which year did you complete your undergraduate or bachelors degree?</th>\n",
       "      <th>How many years of industry experience do you have?</th>\n",
       "      <th>What is your current job description? - Selected Choice</th>\n",
       "      <th>Do you think the current curricula/syllabus for the undergraduate software engineering courses are s - Selected Choice</th>\n",
       "      <th>Rate your undergraduate projects (course projects or final year project) for the following criteria: - Used standard software development tools (e.g., version control systems)</th>\n",
       "      <th>Rate your undergraduate projects (course projects or final year project) for the following criteria: - Used software development frameworks (e.g., Spring, Django etc.)</th>\n",
       "      <th>Rate your undergraduate projects (course projects or final year project) for the following criteria: - Used software development life cycles (SDLC)</th>\n",
       "      <th>Rate your undergraduate projects (course projects or final year project) for the following criteria: - Performed requirements analysis</th>\n",
       "      <th>Rate your undergraduate projects (course projects or final year project) for the following criteria: - Applied different software testings (e.g., unit testing etc.)</th>\n",
       "      <th>Rate your undergraduate projects (course projects or final year project) for the following criteria: - Used project management tools</th>\n",
       "      <th>Rate your undergraduate projects (course projects or final year project) for the following criteria: - Used bug tracking systems</th>\n",
       "      <th>Rate your undergraduate projects (course projects or final year project) for the following criteria: - Were similar to real-life projects</th>\n",
       "      <th>Rate your undergraduate projects (course projects or final year project) for the following criteria: - Were evaluated properly</th>\n",
       "      <th>Internship should be made mandatory as part of the curricula or degree requirement. - Selected Choice</th>\n",
       "      <th>How extensively did you participate in programming contests or solve ACM problems? - Selected Choice</th>\n",
       "      <th>Programming contests or solving ACM problems help build software development skills. - Selected Choice</th>\n",
       "      <th>What do you think about the people who participate in programming contests or solve ACM problems? - Selected Choice</th>\n",
       "      <th>Undergraduate course projects should be given more time. That is, they should  span or continue multiple semesters or years. - Selected Choice</th>\n",
       "      <th>Software engineering course instructors should have industry experience. - Selected Choice</th>\n",
       "      <th>Universities should teach communication and other \"soft\" skills. - Selected Choice</th>\n",
       "      <th>After your graduation, how much effort did you have to put to become effective (i.e., get up to speed) in your role at work? - Selected Choice</th>\n",
       "      <th>How helpful was your undergrad team projects experience for your current job? - Selected Choice</th>\n",
       "      <th>After I joined the team, my company provided formal training (e.g., on-boarding, orientation etc.) on the code base, tools and/or processes. - Selected Choice</th>\n",
       "      <th>Based on your own experience, how much do you think the current undergraduate education prepares an individual for the software industry? - Selected Choice</th>\n",
       "      <th>Both male and female graduates receive equal opportunity at the time of recruitment. - Selected Choice</th>\n",
       "      <th>The workplace environment of the software/IT industry is more comfortable for a man than a woman. - Selected Choice</th>\n",
       "    </tr>\n",
       "  </thead>\n",
       "  <tbody>\n",
       "    <tr>\n",
       "      <th>2</th>\n",
       "      <td>Shahjalal University of Science and Technology</td>\n",
       "      <td>Male</td>\n",
       "      <td>Ph.D.</td>\n",
       "      <td>2014</td>\n",
       "      <td>2 to 5 years</td>\n",
       "      <td>Other (please specify)</td>\n",
       "      <td>Strongly disagree - should be totally changed</td>\n",
       "      <td>Somewhat disagree</td>\n",
       "      <td>Somewhat disagree</td>\n",
       "      <td>Somewhat disagree</td>\n",
       "      <td>Somewhat agree</td>\n",
       "      <td>Strongly disagree</td>\n",
       "      <td>Somewhat agree</td>\n",
       "      <td>Strongly disagree</td>\n",
       "      <td>Strongly disagree</td>\n",
       "      <td>Strongly disagree</td>\n",
       "      <td>Strongly agree</td>\n",
       "      <td>Solved a few</td>\n",
       "      <td>Somewhat agree</td>\n",
       "      <td>Hard to work with</td>\n",
       "      <td>Neither agree nor disagree</td>\n",
       "      <td>Strongly agree</td>\n",
       "      <td>Strongly agree</td>\n",
       "      <td>A moderate amount</td>\n",
       "      <td>Not helpful at all</td>\n",
       "      <td>Strongly disagree</td>\n",
       "      <td>A little</td>\n",
       "      <td>Other (I want to share my opinion)</td>\n",
       "      <td>Somewhat agree</td>\n",
       "    </tr>\n",
       "    <tr>\n",
       "      <th>3</th>\n",
       "      <td>University of Dhaka (DU)</td>\n",
       "      <td>Male</td>\n",
       "      <td>Masters, M.Sc., MS</td>\n",
       "      <td>2010</td>\n",
       "      <td>5 to 10 years</td>\n",
       "      <td>Software Developer/Engineer</td>\n",
       "      <td>Agree - minor changes are needed</td>\n",
       "      <td>Strongly disagree</td>\n",
       "      <td>Strongly disagree</td>\n",
       "      <td>Strongly disagree</td>\n",
       "      <td>Strongly disagree</td>\n",
       "      <td>Strongly disagree</td>\n",
       "      <td>Strongly disagree</td>\n",
       "      <td>Strongly disagree</td>\n",
       "      <td>Strongly disagree</td>\n",
       "      <td>Strongly disagree</td>\n",
       "      <td>Strongly agree</td>\n",
       "      <td>A lot</td>\n",
       "      <td>Strongly agree</td>\n",
       "      <td>Easy to work with</td>\n",
       "      <td>Somewhat disagree</td>\n",
       "      <td>Strongly agree</td>\n",
       "      <td>Strongly agree</td>\n",
       "      <td>A moderate amount</td>\n",
       "      <td>Very helpful</td>\n",
       "      <td>Strongly disagree</td>\n",
       "      <td>A moderate amount</td>\n",
       "      <td>Somewhat disagree</td>\n",
       "      <td>Somewhat agree</td>\n",
       "    </tr>\n",
       "    <tr>\n",
       "      <th>4</th>\n",
       "      <td>Southeast University</td>\n",
       "      <td>Male</td>\n",
       "      <td>Bachelors, B.Sc., BS</td>\n",
       "      <td>2012</td>\n",
       "      <td>5 to 10 years</td>\n",
       "      <td>Software Developer/Engineer</td>\n",
       "      <td>Neither agree nor disagree</td>\n",
       "      <td>Neither agree nor disagree</td>\n",
       "      <td>Neither agree nor disagree</td>\n",
       "      <td>Neither agree nor disagree</td>\n",
       "      <td>Neither agree nor disagree</td>\n",
       "      <td>Neither agree nor disagree</td>\n",
       "      <td>Neither agree nor disagree</td>\n",
       "      <td>Neither agree nor disagree</td>\n",
       "      <td>Somewhat agree</td>\n",
       "      <td>Neither agree nor disagree</td>\n",
       "      <td>Somewhat agree</td>\n",
       "      <td>A lot</td>\n",
       "      <td>Strongly agree</td>\n",
       "      <td>Great team players</td>\n",
       "      <td>Somewhat agree</td>\n",
       "      <td>Neither agree nor disagree</td>\n",
       "      <td>Somewhat agree</td>\n",
       "      <td>A moderate amount</td>\n",
       "      <td>Not helpful at all</td>\n",
       "      <td>Strongly agree</td>\n",
       "      <td>A little</td>\n",
       "      <td>Somewhat agree</td>\n",
       "      <td>Neither agree nor disagree</td>\n",
       "    </tr>\n",
       "    <tr>\n",
       "      <th>5</th>\n",
       "      <td>University of Dhaka (DU)</td>\n",
       "      <td>Female</td>\n",
       "      <td>Masters, M.Sc., MS</td>\n",
       "      <td>2007</td>\n",
       "      <td>More than 10 years</td>\n",
       "      <td>Software Developer/Engineer</td>\n",
       "      <td>Disagree - major changes are needed</td>\n",
       "      <td>Strongly agree</td>\n",
       "      <td>Strongly agree</td>\n",
       "      <td>Neither agree nor disagree</td>\n",
       "      <td>Strongly agree</td>\n",
       "      <td>Somewhat disagree</td>\n",
       "      <td>Somewhat disagree</td>\n",
       "      <td>Somewhat disagree</td>\n",
       "      <td>Strongly agree</td>\n",
       "      <td>Somewhat agree</td>\n",
       "      <td>Somewhat disagree</td>\n",
       "      <td>Did not participate or solve</td>\n",
       "      <td>Somewhat disagree</td>\n",
       "      <td>Hard to work with</td>\n",
       "      <td>Strongly disagree</td>\n",
       "      <td>Somewhat disagree</td>\n",
       "      <td>Somewhat disagree</td>\n",
       "      <td>None at all</td>\n",
       "      <td>Slightly helpful</td>\n",
       "      <td>Strongly agree</td>\n",
       "      <td>A little</td>\n",
       "      <td>Somewhat disagree</td>\n",
       "      <td>Somewhat agree</td>\n",
       "    </tr>\n",
       "    <tr>\n",
       "      <th>6</th>\n",
       "      <td>University of Dhaka (DU)</td>\n",
       "      <td>Female</td>\n",
       "      <td>Bachelors, B.Sc., BS</td>\n",
       "      <td>2018</td>\n",
       "      <td>Less than 2 years</td>\n",
       "      <td>Other (please specify)</td>\n",
       "      <td>Agree - minor changes are needed</td>\n",
       "      <td>Somewhat agree</td>\n",
       "      <td>Neither agree nor disagree</td>\n",
       "      <td>Strongly disagree</td>\n",
       "      <td>Somewhat agree</td>\n",
       "      <td>Strongly disagree</td>\n",
       "      <td>Strongly disagree</td>\n",
       "      <td>Strongly disagree</td>\n",
       "      <td>Strongly disagree</td>\n",
       "      <td>Neither agree nor disagree</td>\n",
       "      <td>Strongly agree</td>\n",
       "      <td>Solved a few</td>\n",
       "      <td>Somewhat disagree</td>\n",
       "      <td>Easy to work with</td>\n",
       "      <td>Strongly agree</td>\n",
       "      <td>Strongly agree</td>\n",
       "      <td>Somewhat agree</td>\n",
       "      <td>A lot</td>\n",
       "      <td>Moderately helpful</td>\n",
       "      <td>Strongly agree</td>\n",
       "      <td>A moderate amount</td>\n",
       "      <td>Somewhat agree</td>\n",
       "      <td>Somewhat agree</td>\n",
       "    </tr>\n",
       "    <tr>\n",
       "      <th>...</th>\n",
       "      <td>...</td>\n",
       "      <td>...</td>\n",
       "      <td>...</td>\n",
       "      <td>...</td>\n",
       "      <td>...</td>\n",
       "      <td>...</td>\n",
       "      <td>...</td>\n",
       "      <td>...</td>\n",
       "      <td>...</td>\n",
       "      <td>...</td>\n",
       "      <td>...</td>\n",
       "      <td>...</td>\n",
       "      <td>...</td>\n",
       "      <td>...</td>\n",
       "      <td>...</td>\n",
       "      <td>...</td>\n",
       "      <td>...</td>\n",
       "      <td>...</td>\n",
       "      <td>...</td>\n",
       "      <td>...</td>\n",
       "      <td>...</td>\n",
       "      <td>...</td>\n",
       "      <td>...</td>\n",
       "      <td>...</td>\n",
       "      <td>...</td>\n",
       "      <td>...</td>\n",
       "      <td>...</td>\n",
       "      <td>...</td>\n",
       "      <td>...</td>\n",
       "    </tr>\n",
       "    <tr>\n",
       "      <th>314</th>\n",
       "      <td>Rajshahi Science &amp; Technology University</td>\n",
       "      <td>Male</td>\n",
       "      <td>Bachelors, B.Sc., BS</td>\n",
       "      <td>2013</td>\n",
       "      <td>5 to 10 years</td>\n",
       "      <td>Software Architect</td>\n",
       "      <td>Disagree - major changes are needed</td>\n",
       "      <td>Strongly disagree</td>\n",
       "      <td>Somewhat disagree</td>\n",
       "      <td>Strongly disagree</td>\n",
       "      <td>Somewhat disagree</td>\n",
       "      <td>Strongly disagree</td>\n",
       "      <td>Strongly disagree</td>\n",
       "      <td>Strongly disagree</td>\n",
       "      <td>Neither agree nor disagree</td>\n",
       "      <td>Strongly disagree</td>\n",
       "      <td>Strongly agree</td>\n",
       "      <td>Solved a few</td>\n",
       "      <td>Somewhat agree</td>\n",
       "      <td>Easy to work with</td>\n",
       "      <td>Strongly agree</td>\n",
       "      <td>Strongly agree</td>\n",
       "      <td>Somewhat agree</td>\n",
       "      <td>A lot</td>\n",
       "      <td>Slightly helpful</td>\n",
       "      <td>Somewhat disagree</td>\n",
       "      <td>None at all</td>\n",
       "      <td>Strongly agree</td>\n",
       "      <td>Neither agree nor disagree</td>\n",
       "    </tr>\n",
       "    <tr>\n",
       "      <th>340</th>\n",
       "      <td>State University of Bangladesh</td>\n",
       "      <td>Male</td>\n",
       "      <td>Bachelors, B.Sc., BS</td>\n",
       "      <td>2010</td>\n",
       "      <td>Please select ...</td>\n",
       "      <td>QA / Test Engineer / Test Automation Engineer</td>\n",
       "      <td>Neither agree nor disagree</td>\n",
       "      <td>Somewhat agree</td>\n",
       "      <td>Somewhat agree</td>\n",
       "      <td>Somewhat agree</td>\n",
       "      <td>Somewhat agree</td>\n",
       "      <td>Somewhat agree</td>\n",
       "      <td>Somewhat agree</td>\n",
       "      <td>Somewhat agree</td>\n",
       "      <td>Somewhat agree</td>\n",
       "      <td>Somewhat agree</td>\n",
       "      <td>Strongly agree</td>\n",
       "      <td>A lot</td>\n",
       "      <td>Strongly agree</td>\n",
       "      <td>Great team players</td>\n",
       "      <td>Strongly agree</td>\n",
       "      <td>Strongly agree</td>\n",
       "      <td>Strongly agree</td>\n",
       "      <td>None at all</td>\n",
       "      <td>Slightly helpful</td>\n",
       "      <td>Strongly agree</td>\n",
       "      <td>None at all</td>\n",
       "      <td>Strongly agree</td>\n",
       "      <td>Strongly agree</td>\n",
       "    </tr>\n",
       "    <tr>\n",
       "      <th>343</th>\n",
       "      <td>State University of Bangladesh</td>\n",
       "      <td>Male</td>\n",
       "      <td>Masters, M.Sc., MS</td>\n",
       "      <td>2010</td>\n",
       "      <td>More than 10 years</td>\n",
       "      <td>System Analyst</td>\n",
       "      <td>Agree - minor changes are needed</td>\n",
       "      <td>Somewhat agree</td>\n",
       "      <td>Neither agree nor disagree</td>\n",
       "      <td>Strongly agree</td>\n",
       "      <td>Strongly agree</td>\n",
       "      <td>Somewhat agree</td>\n",
       "      <td>Strongly agree</td>\n",
       "      <td>Somewhat agree</td>\n",
       "      <td>Strongly agree</td>\n",
       "      <td>Somewhat agree</td>\n",
       "      <td>Strongly agree</td>\n",
       "      <td>Did not participate or solve</td>\n",
       "      <td>Strongly agree</td>\n",
       "      <td>Great team players</td>\n",
       "      <td>Strongly agree</td>\n",
       "      <td>Strongly agree</td>\n",
       "      <td>Strongly agree</td>\n",
       "      <td>A moderate amount</td>\n",
       "      <td>Slightly helpful</td>\n",
       "      <td>Strongly agree</td>\n",
       "      <td>A moderate amount</td>\n",
       "      <td>Strongly agree</td>\n",
       "      <td>Somewhat disagree</td>\n",
       "    </tr>\n",
       "    <tr>\n",
       "      <th>352</th>\n",
       "      <td>University of Dhaka (DU)</td>\n",
       "      <td>Male</td>\n",
       "      <td>Masters, M.Sc., MS</td>\n",
       "      <td>2001</td>\n",
       "      <td>More than 10 years</td>\n",
       "      <td>Software Developer/Engineer</td>\n",
       "      <td>Strongly disagree - should be totally changed</td>\n",
       "      <td>Strongly disagree</td>\n",
       "      <td>Strongly disagree</td>\n",
       "      <td>Strongly disagree</td>\n",
       "      <td>Strongly disagree</td>\n",
       "      <td>Strongly disagree</td>\n",
       "      <td>Strongly disagree</td>\n",
       "      <td>Strongly disagree</td>\n",
       "      <td>Strongly disagree</td>\n",
       "      <td>Neither agree nor disagree</td>\n",
       "      <td>Neither agree nor disagree</td>\n",
       "      <td>Did not participate or solve</td>\n",
       "      <td>Strongly agree</td>\n",
       "      <td>Great team players</td>\n",
       "      <td>Neither agree nor disagree</td>\n",
       "      <td>Somewhat agree</td>\n",
       "      <td>Strongly agree</td>\n",
       "      <td>A great deal</td>\n",
       "      <td>Not helpful at all</td>\n",
       "      <td>Strongly agree</td>\n",
       "      <td>None at all</td>\n",
       "      <td>Neither agree nor disagree</td>\n",
       "      <td>Somewhat agree</td>\n",
       "    </tr>\n",
       "    <tr>\n",
       "      <th>354</th>\n",
       "      <td>Shahjalal University of Science and Technology</td>\n",
       "      <td>Male</td>\n",
       "      <td>Bachelors, B.Sc., BS</td>\n",
       "      <td>2010</td>\n",
       "      <td>5 to 10 years</td>\n",
       "      <td>Software Developer/Engineer</td>\n",
       "      <td>Disagree - major changes are needed</td>\n",
       "      <td>Strongly disagree</td>\n",
       "      <td>Strongly disagree</td>\n",
       "      <td>Somewhat agree</td>\n",
       "      <td>Strongly agree</td>\n",
       "      <td>Strongly disagree</td>\n",
       "      <td>Strongly disagree</td>\n",
       "      <td>Strongly disagree</td>\n",
       "      <td>Strongly agree</td>\n",
       "      <td>Somewhat agree</td>\n",
       "      <td>Strongly agree</td>\n",
       "      <td>Solved a few</td>\n",
       "      <td>Other (I want to share my opinion)</td>\n",
       "      <td>Easy to work with</td>\n",
       "      <td>Strongly agree</td>\n",
       "      <td>Other (I want to share my opinion)</td>\n",
       "      <td>Strongly agree</td>\n",
       "      <td>A lot</td>\n",
       "      <td>Slightly helpful</td>\n",
       "      <td>Somewhat agree</td>\n",
       "      <td>A little</td>\n",
       "      <td>Neither agree nor disagree</td>\n",
       "      <td>Strongly disagree</td>\n",
       "    </tr>\n",
       "  </tbody>\n",
       "</table>\n",
       "<p>154 rows × 29 columns</p>\n",
       "</div>"
      ],
      "text/plain": [
       "0   Please provide your undergraduate University name What is your gender?  \\\n",
       "2      Shahjalal University of Science and Technology                 Male   \n",
       "3                            University of Dhaka (DU)                 Male   \n",
       "4                                Southeast University                 Male   \n",
       "5                            University of Dhaka (DU)               Female   \n",
       "6                            University of Dhaka (DU)               Female   \n",
       "..                                                ...                  ...   \n",
       "314          Rajshahi Science & Technology University                 Male   \n",
       "340                    State University of Bangladesh                 Male   \n",
       "343                    State University of Bangladesh                 Male   \n",
       "352                          University of Dhaka (DU)                 Male   \n",
       "354    Shahjalal University of Science and Technology                 Male   \n",
       "\n",
       "0   What is your highest level of degree or education? - Selected Choice  \\\n",
       "2                                                Ph.D.                     \n",
       "3                                   Masters, M.Sc., MS                     \n",
       "4                                 Bachelors, B.Sc., BS                     \n",
       "5                                   Masters, M.Sc., MS                     \n",
       "6                                 Bachelors, B.Sc., BS                     \n",
       "..                                                 ...                     \n",
       "314                               Bachelors, B.Sc., BS                     \n",
       "340                               Bachelors, B.Sc., BS                     \n",
       "343                                 Masters, M.Sc., MS                     \n",
       "352                                 Masters, M.Sc., MS                     \n",
       "354                               Bachelors, B.Sc., BS                     \n",
       "\n",
       "0   Which year did you complete your undergraduate or bachelors degree?  \\\n",
       "2                                                 2014                    \n",
       "3                                                 2010                    \n",
       "4                                                 2012                    \n",
       "5                                                 2007                    \n",
       "6                                                 2018                    \n",
       "..                                                 ...                    \n",
       "314                                               2013                    \n",
       "340                                               2010                    \n",
       "343                                               2010                    \n",
       "352                                               2001                    \n",
       "354                                               2010                    \n",
       "\n",
       "0   How many years of industry experience do you have?  \\\n",
       "2                                         2 to 5 years   \n",
       "3                                        5 to 10 years   \n",
       "4                                        5 to 10 years   \n",
       "5                                   More than 10 years   \n",
       "6                                    Less than 2 years   \n",
       "..                                                 ...   \n",
       "314                                      5 to 10 years   \n",
       "340                                  Please select ...   \n",
       "343                                 More than 10 years   \n",
       "352                                 More than 10 years   \n",
       "354                                      5 to 10 years   \n",
       "\n",
       "0   What is your current job description? - Selected Choice  \\\n",
       "2                               Other (please specify)        \n",
       "3                          Software Developer/Engineer        \n",
       "4                          Software Developer/Engineer        \n",
       "5                          Software Developer/Engineer        \n",
       "6                               Other (please specify)        \n",
       "..                                                 ...        \n",
       "314                                 Software Architect        \n",
       "340      QA / Test Engineer / Test Automation Engineer        \n",
       "343                                     System Analyst        \n",
       "352                        Software Developer/Engineer        \n",
       "354                        Software Developer/Engineer        \n",
       "\n",
       "0   Do you think the current curricula/syllabus for the undergraduate software engineering courses are s - Selected Choice  \\\n",
       "2        Strongly disagree - should be totally changed                                                                       \n",
       "3                     Agree - minor changes are needed                                                                       \n",
       "4                           Neither agree nor disagree                                                                       \n",
       "5                  Disagree - major changes are needed                                                                       \n",
       "6                     Agree - minor changes are needed                                                                       \n",
       "..                                                 ...                                                                       \n",
       "314                Disagree - major changes are needed                                                                       \n",
       "340                         Neither agree nor disagree                                                                       \n",
       "343                   Agree - minor changes are needed                                                                       \n",
       "352      Strongly disagree - should be totally changed                                                                       \n",
       "354                Disagree - major changes are needed                                                                       \n",
       "\n",
       "0   Rate your undergraduate projects (course projects or final year project) for the following criteria: - Used standard software development tools (e.g., version control systems)  \\\n",
       "2                                    Somewhat disagree                                                                                                                                \n",
       "3                                    Strongly disagree                                                                                                                                \n",
       "4                           Neither agree nor disagree                                                                                                                                \n",
       "5                                       Strongly agree                                                                                                                                \n",
       "6                                       Somewhat agree                                                                                                                                \n",
       "..                                                 ...                                                                                                                                \n",
       "314                                  Strongly disagree                                                                                                                                \n",
       "340                                     Somewhat agree                                                                                                                                \n",
       "343                                     Somewhat agree                                                                                                                                \n",
       "352                                  Strongly disagree                                                                                                                                \n",
       "354                                  Strongly disagree                                                                                                                                \n",
       "\n",
       "0   Rate your undergraduate projects (course projects or final year project) for the following criteria: - Used software development frameworks (e.g., Spring, Django etc.)  \\\n",
       "2                                    Somewhat disagree                                                                                                                        \n",
       "3                                    Strongly disagree                                                                                                                        \n",
       "4                           Neither agree nor disagree                                                                                                                        \n",
       "5                                       Strongly agree                                                                                                                        \n",
       "6                           Neither agree nor disagree                                                                                                                        \n",
       "..                                                 ...                                                                                                                        \n",
       "314                                  Somewhat disagree                                                                                                                        \n",
       "340                                     Somewhat agree                                                                                                                        \n",
       "343                         Neither agree nor disagree                                                                                                                        \n",
       "352                                  Strongly disagree                                                                                                                        \n",
       "354                                  Strongly disagree                                                                                                                        \n",
       "\n",
       "0   Rate your undergraduate projects (course projects or final year project) for the following criteria: - Used software development life cycles (SDLC)  \\\n",
       "2                                    Somewhat disagree                                                                                                    \n",
       "3                                    Strongly disagree                                                                                                    \n",
       "4                           Neither agree nor disagree                                                                                                    \n",
       "5                           Neither agree nor disagree                                                                                                    \n",
       "6                                    Strongly disagree                                                                                                    \n",
       "..                                                 ...                                                                                                    \n",
       "314                                  Strongly disagree                                                                                                    \n",
       "340                                     Somewhat agree                                                                                                    \n",
       "343                                     Strongly agree                                                                                                    \n",
       "352                                  Strongly disagree                                                                                                    \n",
       "354                                     Somewhat agree                                                                                                    \n",
       "\n",
       "0   Rate your undergraduate projects (course projects or final year project) for the following criteria: - Performed requirements analysis  \\\n",
       "2                                       Somewhat agree                                                                                       \n",
       "3                                    Strongly disagree                                                                                       \n",
       "4                           Neither agree nor disagree                                                                                       \n",
       "5                                       Strongly agree                                                                                       \n",
       "6                                       Somewhat agree                                                                                       \n",
       "..                                                 ...                                                                                       \n",
       "314                                  Somewhat disagree                                                                                       \n",
       "340                                     Somewhat agree                                                                                       \n",
       "343                                     Strongly agree                                                                                       \n",
       "352                                  Strongly disagree                                                                                       \n",
       "354                                     Strongly agree                                                                                       \n",
       "\n",
       "0   Rate your undergraduate projects (course projects or final year project) for the following criteria: - Applied different software testings (e.g., unit testing etc.)  \\\n",
       "2                                    Strongly disagree                                                                                                                     \n",
       "3                                    Strongly disagree                                                                                                                     \n",
       "4                           Neither agree nor disagree                                                                                                                     \n",
       "5                                    Somewhat disagree                                                                                                                     \n",
       "6                                    Strongly disagree                                                                                                                     \n",
       "..                                                 ...                                                                                                                     \n",
       "314                                  Strongly disagree                                                                                                                     \n",
       "340                                     Somewhat agree                                                                                                                     \n",
       "343                                     Somewhat agree                                                                                                                     \n",
       "352                                  Strongly disagree                                                                                                                     \n",
       "354                                  Strongly disagree                                                                                                                     \n",
       "\n",
       "0   Rate your undergraduate projects (course projects or final year project) for the following criteria: - Used project management tools  \\\n",
       "2                                       Somewhat agree                                                                                     \n",
       "3                                    Strongly disagree                                                                                     \n",
       "4                           Neither agree nor disagree                                                                                     \n",
       "5                                    Somewhat disagree                                                                                     \n",
       "6                                    Strongly disagree                                                                                     \n",
       "..                                                 ...                                                                                     \n",
       "314                                  Strongly disagree                                                                                     \n",
       "340                                     Somewhat agree                                                                                     \n",
       "343                                     Strongly agree                                                                                     \n",
       "352                                  Strongly disagree                                                                                     \n",
       "354                                  Strongly disagree                                                                                     \n",
       "\n",
       "0   Rate your undergraduate projects (course projects or final year project) for the following criteria: - Used bug tracking systems  \\\n",
       "2                                    Strongly disagree                                                                                 \n",
       "3                                    Strongly disagree                                                                                 \n",
       "4                           Neither agree nor disagree                                                                                 \n",
       "5                                    Somewhat disagree                                                                                 \n",
       "6                                    Strongly disagree                                                                                 \n",
       "..                                                 ...                                                                                 \n",
       "314                                  Strongly disagree                                                                                 \n",
       "340                                     Somewhat agree                                                                                 \n",
       "343                                     Somewhat agree                                                                                 \n",
       "352                                  Strongly disagree                                                                                 \n",
       "354                                  Strongly disagree                                                                                 \n",
       "\n",
       "0   Rate your undergraduate projects (course projects or final year project) for the following criteria: - Were similar to real-life projects  \\\n",
       "2                                    Strongly disagree                                                                                          \n",
       "3                                    Strongly disagree                                                                                          \n",
       "4                                       Somewhat agree                                                                                          \n",
       "5                                       Strongly agree                                                                                          \n",
       "6                                    Strongly disagree                                                                                          \n",
       "..                                                 ...                                                                                          \n",
       "314                         Neither agree nor disagree                                                                                          \n",
       "340                                     Somewhat agree                                                                                          \n",
       "343                                     Strongly agree                                                                                          \n",
       "352                                  Strongly disagree                                                                                          \n",
       "354                                     Strongly agree                                                                                          \n",
       "\n",
       "0   Rate your undergraduate projects (course projects or final year project) for the following criteria: - Were evaluated properly  \\\n",
       "2                                    Strongly disagree                                                                               \n",
       "3                                    Strongly disagree                                                                               \n",
       "4                           Neither agree nor disagree                                                                               \n",
       "5                                       Somewhat agree                                                                               \n",
       "6                           Neither agree nor disagree                                                                               \n",
       "..                                                 ...                                                                               \n",
       "314                                  Strongly disagree                                                                               \n",
       "340                                     Somewhat agree                                                                               \n",
       "343                                     Somewhat agree                                                                               \n",
       "352                         Neither agree nor disagree                                                                               \n",
       "354                                     Somewhat agree                                                                               \n",
       "\n",
       "0   Internship should be made mandatory as part of the curricula or degree requirement. - Selected Choice  \\\n",
       "2                                       Strongly agree                                                      \n",
       "3                                       Strongly agree                                                      \n",
       "4                                       Somewhat agree                                                      \n",
       "5                                    Somewhat disagree                                                      \n",
       "6                                       Strongly agree                                                      \n",
       "..                                                 ...                                                      \n",
       "314                                     Strongly agree                                                      \n",
       "340                                     Strongly agree                                                      \n",
       "343                                     Strongly agree                                                      \n",
       "352                         Neither agree nor disagree                                                      \n",
       "354                                     Strongly agree                                                      \n",
       "\n",
       "0   How extensively did you participate in programming contests or solve ACM problems? - Selected Choice  \\\n",
       "2                                         Solved a few                                                     \n",
       "3                                                A lot                                                     \n",
       "4                                                A lot                                                     \n",
       "5                         Did not participate or solve                                                     \n",
       "6                                         Solved a few                                                     \n",
       "..                                                 ...                                                     \n",
       "314                                       Solved a few                                                     \n",
       "340                                              A lot                                                     \n",
       "343                       Did not participate or solve                                                     \n",
       "352                       Did not participate or solve                                                     \n",
       "354                                       Solved a few                                                     \n",
       "\n",
       "0   Programming contests or solving ACM problems help build software development skills. - Selected Choice  \\\n",
       "2                                       Somewhat agree                                                       \n",
       "3                                       Strongly agree                                                       \n",
       "4                                       Strongly agree                                                       \n",
       "5                                    Somewhat disagree                                                       \n",
       "6                                    Somewhat disagree                                                       \n",
       "..                                                 ...                                                       \n",
       "314                                     Somewhat agree                                                       \n",
       "340                                     Strongly agree                                                       \n",
       "343                                     Strongly agree                                                       \n",
       "352                                     Strongly agree                                                       \n",
       "354                 Other (I want to share my opinion)                                                       \n",
       "\n",
       "0   What do you think about the people who participate in programming contests or solve ACM problems? - Selected Choice  \\\n",
       "2                                    Hard to work with                                                                    \n",
       "3                                    Easy to work with                                                                    \n",
       "4                                   Great team players                                                                    \n",
       "5                                    Hard to work with                                                                    \n",
       "6                                    Easy to work with                                                                    \n",
       "..                                                 ...                                                                    \n",
       "314                                  Easy to work with                                                                    \n",
       "340                                 Great team players                                                                    \n",
       "343                                 Great team players                                                                    \n",
       "352                                 Great team players                                                                    \n",
       "354                                  Easy to work with                                                                    \n",
       "\n",
       "0   Undergraduate course projects should be given more time. That is, they should  span or continue multiple semesters or years. - Selected Choice  \\\n",
       "2                           Neither agree nor disagree                                                                                               \n",
       "3                                    Somewhat disagree                                                                                               \n",
       "4                                       Somewhat agree                                                                                               \n",
       "5                                    Strongly disagree                                                                                               \n",
       "6                                       Strongly agree                                                                                               \n",
       "..                                                 ...                                                                                               \n",
       "314                                     Strongly agree                                                                                               \n",
       "340                                     Strongly agree                                                                                               \n",
       "343                                     Strongly agree                                                                                               \n",
       "352                         Neither agree nor disagree                                                                                               \n",
       "354                                     Strongly agree                                                                                               \n",
       "\n",
       "0   Software engineering course instructors should have industry experience. - Selected Choice  \\\n",
       "2                                       Strongly agree                                           \n",
       "3                                       Strongly agree                                           \n",
       "4                           Neither agree nor disagree                                           \n",
       "5                                    Somewhat disagree                                           \n",
       "6                                       Strongly agree                                           \n",
       "..                                                 ...                                           \n",
       "314                                     Strongly agree                                           \n",
       "340                                     Strongly agree                                           \n",
       "343                                     Strongly agree                                           \n",
       "352                                     Somewhat agree                                           \n",
       "354                 Other (I want to share my opinion)                                           \n",
       "\n",
       "0   Universities should teach communication and other \"soft\" skills. - Selected Choice  \\\n",
       "2                                       Strongly agree                                   \n",
       "3                                       Strongly agree                                   \n",
       "4                                       Somewhat agree                                   \n",
       "5                                    Somewhat disagree                                   \n",
       "6                                       Somewhat agree                                   \n",
       "..                                                 ...                                   \n",
       "314                                     Somewhat agree                                   \n",
       "340                                     Strongly agree                                   \n",
       "343                                     Strongly agree                                   \n",
       "352                                     Strongly agree                                   \n",
       "354                                     Strongly agree                                   \n",
       "\n",
       "0   After your graduation, how much effort did you have to put to become effective (i.e., get up to speed) in your role at work? - Selected Choice  \\\n",
       "2                                    A moderate amount                                                                                               \n",
       "3                                    A moderate amount                                                                                               \n",
       "4                                    A moderate amount                                                                                               \n",
       "5                                          None at all                                                                                               \n",
       "6                                                A lot                                                                                               \n",
       "..                                                 ...                                                                                               \n",
       "314                                              A lot                                                                                               \n",
       "340                                        None at all                                                                                               \n",
       "343                                  A moderate amount                                                                                               \n",
       "352                                       A great deal                                                                                               \n",
       "354                                              A lot                                                                                               \n",
       "\n",
       "0   How helpful was your undergrad team projects experience for your current job? - Selected Choice  \\\n",
       "2                                   Not helpful at all                                                \n",
       "3                                         Very helpful                                                \n",
       "4                                   Not helpful at all                                                \n",
       "5                                     Slightly helpful                                                \n",
       "6                                   Moderately helpful                                                \n",
       "..                                                 ...                                                \n",
       "314                                   Slightly helpful                                                \n",
       "340                                   Slightly helpful                                                \n",
       "343                                   Slightly helpful                                                \n",
       "352                                 Not helpful at all                                                \n",
       "354                                   Slightly helpful                                                \n",
       "\n",
       "0   After I joined the team, my company provided formal training (e.g., on-boarding, orientation etc.) on the code base, tools and/or processes. - Selected Choice  \\\n",
       "2                                    Strongly disagree                                                                                                               \n",
       "3                                    Strongly disagree                                                                                                               \n",
       "4                                       Strongly agree                                                                                                               \n",
       "5                                       Strongly agree                                                                                                               \n",
       "6                                       Strongly agree                                                                                                               \n",
       "..                                                 ...                                                                                                               \n",
       "314                                  Somewhat disagree                                                                                                               \n",
       "340                                     Strongly agree                                                                                                               \n",
       "343                                     Strongly agree                                                                                                               \n",
       "352                                     Strongly agree                                                                                                               \n",
       "354                                     Somewhat agree                                                                                                               \n",
       "\n",
       "0   Based on your own experience, how much do you think the current undergraduate education prepares an individual for the software industry? - Selected Choice  \\\n",
       "2                                             A little                                                                                                            \n",
       "3                                    A moderate amount                                                                                                            \n",
       "4                                             A little                                                                                                            \n",
       "5                                             A little                                                                                                            \n",
       "6                                    A moderate amount                                                                                                            \n",
       "..                                                 ...                                                                                                            \n",
       "314                                        None at all                                                                                                            \n",
       "340                                        None at all                                                                                                            \n",
       "343                                  A moderate amount                                                                                                            \n",
       "352                                        None at all                                                                                                            \n",
       "354                                           A little                                                                                                            \n",
       "\n",
       "0   Both male and female graduates receive equal opportunity at the time of recruitment. - Selected Choice  \\\n",
       "2                   Other (I want to share my opinion)                                                       \n",
       "3                                    Somewhat disagree                                                       \n",
       "4                                       Somewhat agree                                                       \n",
       "5                                    Somewhat disagree                                                       \n",
       "6                                       Somewhat agree                                                       \n",
       "..                                                 ...                                                       \n",
       "314                                     Strongly agree                                                       \n",
       "340                                     Strongly agree                                                       \n",
       "343                                     Strongly agree                                                       \n",
       "352                         Neither agree nor disagree                                                       \n",
       "354                         Neither agree nor disagree                                                       \n",
       "\n",
       "0   The workplace environment of the software/IT industry is more comfortable for a man than a woman. - Selected Choice  \n",
       "2                                       Somewhat agree                                                                   \n",
       "3                                       Somewhat agree                                                                   \n",
       "4                           Neither agree nor disagree                                                                   \n",
       "5                                       Somewhat agree                                                                   \n",
       "6                                       Somewhat agree                                                                   \n",
       "..                                                 ...                                                                   \n",
       "314                         Neither agree nor disagree                                                                   \n",
       "340                                     Strongly agree                                                                   \n",
       "343                                  Somewhat disagree                                                                   \n",
       "352                                     Somewhat agree                                                                   \n",
       "354                                  Strongly disagree                                                                   \n",
       "\n",
       "[154 rows x 29 columns]"
      ]
     },
     "execution_count": 3,
     "metadata": {},
     "output_type": "execute_result"
    }
   ],
   "source": [
    "df"
   ]
  },
  {
   "cell_type": "markdown",
   "metadata": {},
   "source": [
    "#"
   ]
  },
  {
   "cell_type": "markdown",
   "metadata": {},
   "source": [
    "### 0. Please provide your undergraduate University name"
   ]
  },
  {
   "cell_type": "code",
   "execution_count": null,
   "metadata": {
    "scrolled": false
   },
   "outputs": [],
   "source": [
    "df.groupby(cols[0]).size() #.plot(kind='bar')\n",
    "# sns.countplot(df[cols[0]], color='gray')"
   ]
  },
  {
   "cell_type": "markdown",
   "metadata": {},
   "source": [
    "### 1. What is your gender?"
   ]
  },
  {
   "cell_type": "code",
   "execution_count": 72,
   "metadata": {
    "scrolled": false
   },
   "outputs": [
    {
     "data": {
      "text/plain": [
       "<matplotlib.legend.Legend at 0x7ff3ba21bbe0>"
      ]
     },
     "execution_count": 72,
     "metadata": {},
     "output_type": "execute_result"
    },
    {
     "data": {
      "image/png": "[encoded data removed]",
      "text/plain": [
       "<Figure size 432x288 with 1 Axes>"
      ]
     },
     "metadata": {},
     "output_type": "display_data"
    }
   ],
   "source": [
    "# df1 = df.groupby(cols[1]).size()\n",
    "# df1 = df1[['Male', 'Female', 'I prefer not to share']]\n",
    "# df1.plot(kind='pie', autopct='%1.0f%%',  labels=['','',''])\n",
    "# # plt.legend(df1.column)\n",
    "# plt.legend(['Male', 'Female', 'I prefer not to share'])\n",
    "\n",
    "df1 = df[cols[1]].value_counts()\n",
    "df1.plot(kind='pie', autopct='%1.0f%%')\n",
    "plt.ylabel('')\n",
    "plt.legend()"
   ]
  },
  {
   "cell_type": "markdown",
   "metadata": {},
   "source": [
    "### 2. What is your highest level of degree or education?"
   ]
  },
  {
   "cell_type": "code",
   "execution_count": 93,
   "metadata": {},
   "outputs": [
    {
     "data": {
      "text/plain": [
       "<matplotlib.axes._subplots.AxesSubplot at 0x7ff3ba379e48>"
      ]
     },
     "execution_count": 93,
     "metadata": {},
     "output_type": "execute_result"
    },
    {
     "data": {
      "image/png": "[encoded data removed]",
      "text/plain": [
       "<Figure size 432x288 with 1 Axes>"
      ]
     },
     "metadata": {},
     "output_type": "display_data"
    }
   ],
   "source": [
    "df1 = df[cols[2]].value_counts()\n",
    "\n",
    "di = {'Bachelors, B.Sc., BS':'B.Sc',\n",
    "      'Masters, M.Sc., MS':'M.Sc', \n",
    "      'Other (please specify)': 'Others',\n",
    "      'Ph.D.': 'Ph.D'\n",
    "     }\n",
    "\n",
    "df1 = df1.rename(index=di)\n",
    "df1.plot(kind='bar')"
   ]
  },
  {
   "cell_type": "markdown",
   "metadata": {},
   "source": [
    "### 3. Which year did you complete your undergraduate or bachelors degree?"
   ]
  },
  {
   "cell_type": "code",
   "execution_count": 95,
   "metadata": {
    "scrolled": true
   },
   "outputs": [
    {
     "data": {
      "text/plain": [
       "<matplotlib.axes._subplots.AxesSubplot at 0x7ff3ba20a9e8>"
      ]
     },
     "execution_count": 95,
     "metadata": {},
     "output_type": "execute_result"
    },
    {
     "data": {
      "image/png": "[encoded data removed]",
      "text/plain": [
       "<Figure size 432x288 with 1 Axes>"
      ]
     },
     "metadata": {},
     "output_type": "display_data"
    }
   ],
   "source": [
    "# df.groupby(cols[3]).size().plot(kind='bar')\n",
    "df1 = df[cols[3]].value_counts()\n",
    "df1.plot(kind='bar')"
   ]
  },
  {
   "cell_type": "markdown",
   "metadata": {},
   "source": [
    "### 4. How many years of industry experience do you have?"
   ]
  },
  {
   "cell_type": "code",
   "execution_count": 96,
   "metadata": {},
   "outputs": [
    {
     "data": {
      "text/plain": [
       "<matplotlib.axes._subplots.AxesSubplot at 0x7ff3b9a29b70>"
      ]
     },
     "execution_count": 96,
     "metadata": {},
     "output_type": "execute_result"
    },
    {
     "data": {
      "image/png": "[encoded data removed]",
      "text/plain": [
       "<Figure size 432x288 with 1 Axes>"
      ]
     },
     "metadata": {},
     "output_type": "display_data"
    }
   ],
   "source": [
    "df1 = df[cols[4]].value_counts()\n",
    "df1.plot(kind='bar')"
   ]
  },
  {
   "cell_type": "markdown",
   "metadata": {},
   "source": [
    "### 5. What is your current job description?"
   ]
  },
  {
   "cell_type": "code",
   "execution_count": 97,
   "metadata": {},
   "outputs": [
    {
     "data": {
      "text/plain": [
       "<matplotlib.axes._subplots.AxesSubplot at 0x7ff3ba47fba8>"
      ]
     },
     "execution_count": 97,
     "metadata": {},
     "output_type": "execute_result"
    },
    {
     "data": {
      "image/png": "[encoded data removed]",
      "text/plain": [
       "<Figure size 432x288 with 1 Axes>"
      ]
     },
     "metadata": {},
     "output_type": "display_data"
    }
   ],
   "source": [
    "df1 = df[cols[5]].value_counts()\n",
    "df1.plot(kind='bar')"
   ]
  },
  {
   "cell_type": "markdown",
   "metadata": {},
   "source": [
    "### A. Undergraduate Curricula"
   ]
  },
  {
   "cell_type": "code",
   "execution_count": 98,
   "metadata": {},
   "outputs": [
    {
     "name": "stdout",
     "output_type": "stream",
     "text": [
      "6 ['Strongly disagree - should be totally changed'\n",
      " 'Agree - minor changes are needed' 'Neither agree nor disagree'\n",
      " 'Disagree - major changes are needed'\n",
      " 'Other (I want to share my opinion)'\n",
      " 'Strongly agree - no change is needed' nan]\n",
      "26 ['A little' 'A moderate amount' 'A lot' 'None at all' 'A great deal' nan\n",
      " 'Other (I want to share my opinion)']\n"
     ]
    }
   ],
   "source": [
    "l = [6, 26]\n",
    "for i in l:\n",
    "    print(i, df[cols[i]].unique())"
   ]
  },
  {
   "cell_type": "markdown",
   "metadata": {},
   "source": [
    "####  6. Do you think the current curricula/syllabus for the undergraduate software engineering courses are s - Selected Choice"
   ]
  },
  {
   "cell_type": "code",
   "execution_count": 12,
   "metadata": {
    "scrolled": true
   },
   "outputs": [
    {
     "data": {
      "text/plain": [
       "Text(0, 0.5, '')"
      ]
     },
     "execution_count": 12,
     "metadata": {},
     "output_type": "execute_result"
    },
    {
     "data": {
      "image/png": "[encoded data removed]",
      "text/plain": [
       "<Figure size 432x288 with 1 Axes>"
      ]
     },
     "metadata": {},
     "output_type": "display_data"
    }
   ],
   "source": [
    "df1 = df[cols[6]].value_counts()\n",
    "df1.plot(kind='pie', wedgeprops=dict(width=0.5))\n",
    "plt.ylabel('')"
   ]
  },
  {
   "cell_type": "markdown",
   "metadata": {},
   "source": [
    "#### 26. Based on your own experience, how much do you think the current undergraduate education prepares an individual for the software industry? - Selected Choice"
   ]
  },
  {
   "cell_type": "code",
   "execution_count": 135,
   "metadata": {},
   "outputs": [
    {
     "data": {
      "text/plain": [
       "<matplotlib.legend.Legend at 0x7fef860bba58>"
      ]
     },
     "execution_count": 135,
     "metadata": {},
     "output_type": "execute_result"
    },
    {
     "data": {
      "image/png": "[encoded data removed]",
      "text/plain": [
       "<Figure size 432x288 with 1 Axes>"
      ]
     },
     "metadata": {},
     "output_type": "display_data"
    }
   ],
   "source": [
    "df1 = df[cols[26]].value_counts()\n",
    "\n",
    "def my_autopct(pct):\n",
    "    return ('%1.0f%%' % pct) if pct > 10 else ''\n",
    "\n",
    "df1.plot(kind='pie', autopct=my_autopct, wedgeprops=dict(width=0.5), labels=['','','','','',''])\n",
    "plt.ylabel('')\n",
    "\n",
    "plt.legend(loc='upper center', ncol=2, bbox_to_anchor=(0.5, 1.2), labels=df1.index)\n"
   ]
  },
  {
   "cell_type": "markdown",
   "metadata": {},
   "source": [
    "### B. Rate your undergraduate projects (course projects or final year project) for the following criteria: - \n",
    "- 7.  Used standard software development tools (e.g., version control systems)\n",
    "- 8.  Used software development frameworks (e.g., Spring, Django etc.)\n",
    "- 9. Used software development life cycles (SDLC)\t\n",
    "- 10. Performed requirements analysis\n",
    "- 11. Applied different software testings (e.g., unit testing etc.)\n",
    "- 12. Used project management tools\n",
    "- 13. Used bug tracking systems\n",
    "- 14. Were similar to real-life projects\n",
    "- 15. Were evaluated properly"
   ]
  },
  {
   "cell_type": "code",
   "execution_count": 83,
   "metadata": {
    "scrolled": false
   },
   "outputs": [
    {
     "data": {
      "text/plain": [
       "<matplotlib.legend.Legend at 0x7f9615ee9278>"
      ]
     },
     "execution_count": 83,
     "metadata": {},
     "output_type": "execute_result"
    },
    {
     "data": {
      "image/png": "[encoded data removed]",
      "text/plain": [
       "<Figure size 432x288 with 1 Axes>"
      ]
     },
     "metadata": {},
     "output_type": "display_data"
    }
   ],
   "source": [
    "df1 = df[cols[7:16]].apply(pd.Series.value_counts)\n",
    "df1 = df1/df1.sum()*100\n",
    "\n",
    "color = ['#E53936', '#5E35B1', '#019BE5', '#FED836', '#44A047']\n",
    "\n",
    "df1.columns = ['Used std. software devl. tools',\n",
    "               'Used software devl. frameworks',\n",
    "               'Followed SDLC',\n",
    "              'Performed requirements analysis',\n",
    "              'Applied different software testings',\n",
    "              'Used project management tools',\n",
    "              'Used bug tracking systems',\n",
    "              'Were similar to real-life projects',\n",
    "              'Were evaluated properly']\n",
    "\n",
    "df1 = df1.T\n",
    "\n",
    "df1 = df1[['Strongly disagree', 'Somewhat disagree', 'Neither agree nor disagree',\n",
    "          'Somewhat agree', 'Strongly agree']]\n",
    "df1.rename(columns={'Neither agree nor disagree': 'Neither agree/disagree'}, inplace=True)\n",
    "\n",
    "ax = df1.plot(kind='barh', color=color, stacked=True, width=0.80)\n",
    "\n",
    "import matplotlib.ticker as mtick\n",
    "fmt = '%.0f%%' # Format you want the ticks, e.g. '40%'\n",
    "xticks = mtick.FormatStrFormatter(fmt)\n",
    "ax.xaxis.set_major_formatter(xticks)\n",
    "ax.tick_params(axis='x', which='minor', bottom=False)\n",
    "# plt.grid(color='black', linewidth=0.7)\n",
    "# ax.yaxis.grid(False)\n",
    "\n",
    "# ax.axes.get_xaxis().set_visible(False)\n",
    "\n",
    "plt.legend(loc='upper center', ncol=3, bbox_to_anchor=(0.300, 1.2))\n",
    "# ax.spines['bottom'].set_position('zero')\n",
    "\n",
    "# for p in ax.patches:\n",
    "#     left, bottom, width, height = p.get_bbox().bounds\n",
    "#     if width <=15: continue\n",
    "#     ax.annotate(str(int(round(width)))+'%', xy=(left+width/2, bottom+height/2), \n",
    "#                 ha='center', va='center')"
   ]
  },
  {
   "cell_type": "markdown",
   "metadata": {},
   "source": [
    "### C. Pedagogical Issues\n",
    "#### 21. Software engineering course instructors should have industry experience. - Selected Choice\n",
    "#### 23. After your graduation, how much effort did you have to put to become effective (i.e., get up to speed) in your role at work? - Selected Choice\n",
    "#### 25. After I joined the team, my company provided formal training (e.g., on-boarding, orientation etc.) on the code base, tools and/or processes. - Selected Choice"
   ]
  },
  {
   "cell_type": "code",
   "execution_count": 83,
   "metadata": {},
   "outputs": [
    {
     "name": "stdout",
     "output_type": "stream",
     "text": [
      "21 ['Strongly agree' 'Neither agree nor disagree' 'Somewhat disagree'\n",
      " 'Somewhat agree' 'Strongly disagree' nan\n",
      " 'Other (I want to share my opinion)']\n",
      "23 ['A moderate amount' 'None at all' 'A lot' 'A little' 'A great deal' nan\n",
      " 'Other (I want to share my opinion)']\n",
      "25 ['Strongly disagree' 'Strongly agree' 'Somewhat agree' 'Somewhat disagree'\n",
      " 'Neither agree nor disagree' nan]\n"
     ]
    }
   ],
   "source": [
    "l = [21, 23, 25]\n",
    "for i in l:\n",
    "    print(i, df[cols[i]].unique())"
   ]
  },
  {
   "cell_type": "markdown",
   "metadata": {},
   "source": [
    "### D. Lack of communication and soft skills\n",
    "#### 22. Universities should teach communication and other \"soft\" skills. - Selected Choice"
   ]
  },
  {
   "cell_type": "code",
   "execution_count": 136,
   "metadata": {},
   "outputs": [
    {
     "data": {
      "text/plain": [
       "<Figure size 144x72 with 0 Axes>"
      ]
     },
     "execution_count": 136,
     "metadata": {},
     "output_type": "execute_result"
    },
    {
     "data": {
      "image/png": "[encoded data removed]",
      "text/plain": [
       "<Figure size 720x288 with 1 Axes>"
      ]
     },
     "metadata": {},
     "output_type": "display_data"
    },
    {
     "data": {
      "text/plain": [
       "<Figure size 144x72 with 0 Axes>"
      ]
     },
     "metadata": {},
     "output_type": "display_data"
    }
   ],
   "source": [
    "df1 = df[[cols[22]]].apply(pd.Series.value_counts)\n",
    "df1 = df1/df1.sum()*100\n",
    "df1.columns = ['Universities should teach soft skills']\n",
    "\n",
    "ax = df1.T.plot(kind='barh', color=color, stacked=True, width=0.06, figsize=(10,4))\n",
    "ax.tick_params(axis=u'both', which=u'both',length=0)\n",
    "\n",
    "# ax.xaxis.set_tick_params(0)\n",
    "for p in ax.patches:\n",
    "    left, bottom, width, height = p.get_bbox().bounds\n",
    "    if width <=15: continue\n",
    "    ax.annotate(str(int(round(width)))+'%', xy=(left+width/2, bottom+height/2), \n",
    "                ha='center', va='center')\n",
    "    \n",
    "plt.legend(loc='upper center', ncol=3, bbox_to_anchor=(0.5, 1.2))\n",
    "plt.xlabel(df1.columns[0])\n",
    "plt.xticks([], [])\n",
    "plt.yticks([], [])\n",
    "\n",
    "plt.figure(figsize=(2,1))"
   ]
  },
  {
   "cell_type": "markdown",
   "metadata": {},
   "source": [
    "### E. Gender and Equity\n",
    "#### 27. Both male and female graduates receive equal opportunity at the time of recruitment. - Selected Choice\n",
    "#### 28. The workplace environment of the software/IT industry is more comfortable for a man than a woman. - Selected Choice"
   ]
  },
  {
   "cell_type": "code",
   "execution_count": 86,
   "metadata": {},
   "outputs": [
    {
     "name": "stdout",
     "output_type": "stream",
     "text": [
      "27 Both male and female graduates receive equal opportunity at the time of recruitment. - Selected Choice ['Other (I want to share my opinion)' 'Somewhat disagree' 'Somewhat agree'\n",
      " 'Neither agree nor disagree' 'Strongly agree' 'Strongly disagree' nan]\n",
      "28 The workplace environment of the software/IT industry is more comfortable for a man than a woman. - Selected Choice ['Somewhat agree' 'Neither agree nor disagree' 'Strongly disagree'\n",
      " 'Somewhat disagree' 'Strongly agree' 'Other (I want to share my opinion)'\n",
      " nan]\n"
     ]
    }
   ],
   "source": [
    "l = [27, 28]\n",
    "for i in l:\n",
    "    print(i, df[cols[i]].name, df[cols[i]].unique())"
   ]
  },
  {
   "cell_type": "markdown",
   "metadata": {},
   "source": [
    "### Improvement Suggestions\n",
    "#### 16. Internship should be made mandatory as part of the curricula or degree requirement. - Selected Choice\n",
    "#### 17. How extensively did you participate in programming contests or solve ACM problems? - Selected Choice\n",
    "#### 18. Programming contests or solving ACM problems help build software development skills. - Selected Choice\n",
    "#### 19.What do you think about the people who participate in programming contests or solve ACM problems?"
   ]
  },
  {
   "cell_type": "code",
   "execution_count": 88,
   "metadata": {},
   "outputs": [
    {
     "name": "stdout",
     "output_type": "stream",
     "text": [
      "16 ['Strongly agree' 'Somewhat agree' 'Somewhat disagree'\n",
      " 'Neither agree nor disagree' 'Other (I want to share my opinion)'\n",
      " 'Strongly disagree' nan]\n",
      "17 ['Solved a few' 'A lot' 'Did not participate or solve'\n",
      " 'Other (I want to share my opinion)' nan]\n",
      "18 ['Somewhat agree' 'Strongly agree' 'Somewhat disagree'\n",
      " 'Neither agree nor disagree' 'Strongly disagree' nan\n",
      " 'Other (I want to share my opinion)']\n",
      "19 ['Hard to work with' 'Easy to work with' 'Great team players'\n",
      " 'I did not have such teammates' 'Extremely hard to work with'\n",
      " 'Other (I want to share my opinion)' nan]\n"
     ]
    }
   ],
   "source": [
    "l = [16, 17, 18, 19]\n",
    "for i in l:\n",
    "    print(i, df[cols[i]].unique())"
   ]
  },
  {
   "cell_type": "markdown",
   "metadata": {},
   "source": [
    "### Z. Not done\n",
    "#### 20. Undergraduate course projects should be given more time. That is, they should span or continue multiple semesters or years. - Selected Choice\n",
    "#### 24. Team projects helpful for your current job? - Selected Choice\n",
    "\n",
    "Q24: [Optional]What would you suggest to change or improve in the under-graduate education to prepare a fresh graduate for the softwareindustry?\n",
    "Q25: [Optional] If you want, you could provide anylist of resources that you found useful. For example, names ofsoftware engineering books, links, tools or techniques etc"
   ]
  }
 ],
 "metadata": {
  "kernelspec": {
   "display_name": "Python 3",
   "language": "python",
   "name": "python3"
  },
  "language_info": {
   "codemirror_mode": {
    "name": "ipython",
    "version": 3
   },
   "file_extension": ".py",
   "mimetype": "text/x-python",
   "name": "python",
   "nbconvert_exporter": "python",
   "pygments_lexer": "ipython3",
   "version": "3.6.8"
  }
 },
 "nbformat": 4,
 "nbformat_minor": 4
}
